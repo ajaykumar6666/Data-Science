{
  "nbformat": 4,
  "nbformat_minor": 0,
  "metadata": {
    "colab": {
      "name": "TF-1.ipynb",
      "provenance": [],
      "authorship_tag": "ABX9TyMf43JjyuJFMs8l0brVJoLD",
      "include_colab_link": true
    },
    "kernelspec": {
      "name": "python3",
      "display_name": "Python 3"
    }
  },
  "cells": [
    {
      "cell_type": "markdown",
      "metadata": {
        "id": "view-in-github",
        "colab_type": "text"
      },
      "source": [
        "<a href=\"https://colab.research.google.com/github/ajaykumar6666/Data-Science/blob/master/Breast%20Cancer%20Prediction%20using%20TensorFlow.ipynb\" target=\"_parent\"><img src=\"https://colab.research.google.com/assets/colab-badge.svg\" alt=\"Open In Colab\"/></a>"
      ]
    },
    {
      "cell_type": "code",
      "metadata": {
        "id": "p8UcLMaw0-Pg",
        "colab_type": "code",
        "colab": {}
      },
      "source": [
        "import tensorflow as tf"
      ],
      "execution_count": 1,
      "outputs": []
    },
    {
      "cell_type": "code",
      "metadata": {
        "id": "Y7UL5uAQ1GNb",
        "colab_type": "code",
        "colab": {
          "base_uri": "https://localhost:8080/",
          "height": 87
        },
        "outputId": "d592f010-a42e-4ca8-9100-58f57e7643cb"
      },
      "source": [
        "tf.eye(3,3)"
      ],
      "execution_count": 5,
      "outputs": [
        {
          "output_type": "execute_result",
          "data": {
            "text/plain": [
              "<tf.Tensor: shape=(3, 3), dtype=float32, numpy=\n",
              "array([[1., 0., 0.],\n",
              "       [0., 1., 0.],\n",
              "       [0., 0., 1.]], dtype=float32)>"
            ]
          },
          "metadata": {
            "tags": []
          },
          "execution_count": 5
        }
      ]
    },
    {
      "cell_type": "code",
      "metadata": {
        "id": "xN0O-yqZ1OrJ",
        "colab_type": "code",
        "colab": {
          "base_uri": "https://localhost:8080/",
          "height": 35
        },
        "outputId": "268e271f-f492-4131-bec1-59520c56a96f"
      },
      "source": [
        "tf.__version__"
      ],
      "execution_count": 6,
      "outputs": [
        {
          "output_type": "execute_result",
          "data": {
            "application/vnd.google.colaboratory.intrinsic+json": {
              "type": "string"
            },
            "text/plain": [
              "'2.3.0'"
            ]
          },
          "metadata": {
            "tags": []
          },
          "execution_count": 6
        }
      ]
    },
    {
      "cell_type": "code",
      "metadata": {
        "id": "wpDk6UrU1V-U",
        "colab_type": "code",
        "colab": {}
      },
      "source": [
        "from sklearn.datasets import load_breast_cancer"
      ],
      "execution_count": 7,
      "outputs": []
    },
    {
      "cell_type": "code",
      "metadata": {
        "id": "yQBVNDrP1cTk",
        "colab_type": "code",
        "colab": {}
      },
      "source": [
        "data=load_breast_cancer()"
      ],
      "execution_count": 14,
      "outputs": []
    },
    {
      "cell_type": "code",
      "metadata": {
        "id": "l-XgDGs31eAt",
        "colab_type": "code",
        "colab": {
          "base_uri": "https://localhost:8080/",
          "height": 34
        },
        "outputId": "e79f8000-711e-4ad6-cb8c-04101662db60"
      },
      "source": [
        "type(data)"
      ],
      "execution_count": 15,
      "outputs": [
        {
          "output_type": "execute_result",
          "data": {
            "text/plain": [
              "sklearn.utils.Bunch"
            ]
          },
          "metadata": {
            "tags": []
          },
          "execution_count": 15
        }
      ]
    },
    {
      "cell_type": "code",
      "metadata": {
        "id": "XTDJHIsY1uGU",
        "colab_type": "code",
        "colab": {
          "base_uri": "https://localhost:8080/",
          "height": 34
        },
        "outputId": "347eaaaf-692d-49a0-f386-4d59a0566b0f"
      },
      "source": [
        "data.keys()"
      ],
      "execution_count": 16,
      "outputs": [
        {
          "output_type": "execute_result",
          "data": {
            "text/plain": [
              "dict_keys(['data', 'target', 'target_names', 'DESCR', 'feature_names', 'filename'])"
            ]
          },
          "metadata": {
            "tags": []
          },
          "execution_count": 16
        }
      ]
    },
    {
      "cell_type": "code",
      "metadata": {
        "id": "9qXbiW6j1w8e",
        "colab_type": "code",
        "colab": {
          "base_uri": "https://localhost:8080/",
          "height": 246
        },
        "outputId": "3080bc9b-91f3-45d5-cc69-2a9b916e3a5c"
      },
      "source": [
        "data['data']"
      ],
      "execution_count": 17,
      "outputs": [
        {
          "output_type": "execute_result",
          "data": {
            "text/plain": [
              "array([[1.799e+01, 1.038e+01, 1.228e+02, ..., 2.654e-01, 4.601e-01,\n",
              "        1.189e-01],\n",
              "       [2.057e+01, 1.777e+01, 1.329e+02, ..., 1.860e-01, 2.750e-01,\n",
              "        8.902e-02],\n",
              "       [1.969e+01, 2.125e+01, 1.300e+02, ..., 2.430e-01, 3.613e-01,\n",
              "        8.758e-02],\n",
              "       ...,\n",
              "       [1.660e+01, 2.808e+01, 1.083e+02, ..., 1.418e-01, 2.218e-01,\n",
              "        7.820e-02],\n",
              "       [2.060e+01, 2.933e+01, 1.401e+02, ..., 2.650e-01, 4.087e-01,\n",
              "        1.240e-01],\n",
              "       [7.760e+00, 2.454e+01, 4.792e+01, ..., 0.000e+00, 2.871e-01,\n",
              "        7.039e-02]])"
            ]
          },
          "metadata": {
            "tags": []
          },
          "execution_count": 17
        }
      ]
    },
    {
      "cell_type": "code",
      "metadata": {
        "id": "F1LZuIJY10S-",
        "colab_type": "code",
        "colab": {}
      },
      "source": [
        "from sklearn.model_selection import train_test_split"
      ],
      "execution_count": 18,
      "outputs": []
    },
    {
      "cell_type": "code",
      "metadata": {
        "id": "6iqDZb4n27cw",
        "colab_type": "code",
        "colab": {}
      },
      "source": [
        "X_train,X_test,y_train,y_test=train_test_split(data.data,data.target,test_size=0.33)"
      ],
      "execution_count": 19,
      "outputs": []
    },
    {
      "cell_type": "code",
      "metadata": {
        "id": "dwhSGkL93EXs",
        "colab_type": "code",
        "colab": {
          "base_uri": "https://localhost:8080/",
          "height": 34
        },
        "outputId": "adb1a182-78a4-4c5a-e767-8b79f4a24118"
      },
      "source": [
        "X_train.shape,X_test.shape,y_train.shape,y_test.shape"
      ],
      "execution_count": 20,
      "outputs": [
        {
          "output_type": "execute_result",
          "data": {
            "text/plain": [
              "((381, 30), (188, 30), (381,), (188,))"
            ]
          },
          "metadata": {
            "tags": []
          },
          "execution_count": 20
        }
      ]
    },
    {
      "cell_type": "code",
      "metadata": {
        "id": "jjH9uGba3ISN",
        "colab_type": "code",
        "colab": {}
      },
      "source": [
        "from sklearn.preprocessing import StandardScaler"
      ],
      "execution_count": 21,
      "outputs": []
    },
    {
      "cell_type": "code",
      "metadata": {
        "id": "CYdoNxCx3XhQ",
        "colab_type": "code",
        "colab": {}
      },
      "source": [
        "scaler=StandardScaler()"
      ],
      "execution_count": 22,
      "outputs": []
    },
    {
      "cell_type": "code",
      "metadata": {
        "id": "btOroICF3Yzu",
        "colab_type": "code",
        "colab": {}
      },
      "source": [
        "X_train=scaler.fit_transform(X_train)\n",
        "X_test=scaler.fit_transform(X_test)"
      ],
      "execution_count": 23,
      "outputs": []
    },
    {
      "cell_type": "code",
      "metadata": {
        "id": "lBcvvV8K3gF5",
        "colab_type": "code",
        "colab": {}
      },
      "source": [
        "N,D=X_train.shape"
      ],
      "execution_count": 25,
      "outputs": []
    },
    {
      "cell_type": "code",
      "metadata": {
        "id": "D8nudCr33oCs",
        "colab_type": "code",
        "colab": {
          "base_uri": "https://localhost:8080/",
          "height": 34
        },
        "outputId": "00096617-7d16-4800-ef6f-50255188e6b5"
      },
      "source": [
        "N,D"
      ],
      "execution_count": 26,
      "outputs": [
        {
          "output_type": "execute_result",
          "data": {
            "text/plain": [
              "(381, 30)"
            ]
          },
          "metadata": {
            "tags": []
          },
          "execution_count": 26
        }
      ]
    },
    {
      "cell_type": "code",
      "metadata": {
        "id": "t9tvU-3z3rEt",
        "colab_type": "code",
        "colab": {}
      },
      "source": [
        "model=tf.keras.models.Sequential(\n",
        "    [tf.keras.layers.Input(shape=(D,)),\n",
        "     tf.keras.layers.Dense(1,activation='sigmoid')]\n",
        ")"
      ],
      "execution_count": 28,
      "outputs": []
    },
    {
      "cell_type": "code",
      "metadata": {
        "id": "jmSTP2VC4PZS",
        "colab_type": "code",
        "colab": {}
      },
      "source": [
        "model.compile(optimizer='adam',loss='binary_crossentropy',metrics=['accuracy'])"
      ],
      "execution_count": 29,
      "outputs": []
    },
    {
      "cell_type": "code",
      "metadata": {
        "id": "ezT0kofk4dz8",
        "colab_type": "code",
        "colab": {
          "base_uri": "https://localhost:8080/",
          "height": 1000
        },
        "outputId": "7fbafdb9-85ad-442d-a8f6-7eff1016f190"
      },
      "source": [
        "r=model.fit(X_train,y_train,validation_data=(X_test,y_test),epochs=100)"
      ],
      "execution_count": 32,
      "outputs": [
        {
          "output_type": "stream",
          "text": [
            "Epoch 1/100\n",
            "12/12 [==============================] - 0s 5ms/step - loss: 0.1081 - accuracy: 0.9764 - val_loss: 0.1340 - val_accuracy: 0.9521\n",
            "Epoch 2/100\n",
            "12/12 [==============================] - 0s 3ms/step - loss: 0.1074 - accuracy: 0.9764 - val_loss: 0.1333 - val_accuracy: 0.9521\n",
            "Epoch 3/100\n",
            "12/12 [==============================] - 0s 3ms/step - loss: 0.1067 - accuracy: 0.9764 - val_loss: 0.1328 - val_accuracy: 0.9521\n",
            "Epoch 4/100\n",
            "12/12 [==============================] - 0s 3ms/step - loss: 0.1060 - accuracy: 0.9764 - val_loss: 0.1320 - val_accuracy: 0.9521\n",
            "Epoch 5/100\n",
            "12/12 [==============================] - 0s 3ms/step - loss: 0.1054 - accuracy: 0.9764 - val_loss: 0.1314 - val_accuracy: 0.9521\n",
            "Epoch 6/100\n",
            "12/12 [==============================] - 0s 3ms/step - loss: 0.1047 - accuracy: 0.9764 - val_loss: 0.1307 - val_accuracy: 0.9521\n",
            "Epoch 7/100\n",
            "12/12 [==============================] - 0s 3ms/step - loss: 0.1041 - accuracy: 0.9764 - val_loss: 0.1301 - val_accuracy: 0.9521\n",
            "Epoch 8/100\n",
            "12/12 [==============================] - 0s 2ms/step - loss: 0.1035 - accuracy: 0.9764 - val_loss: 0.1294 - val_accuracy: 0.9521\n",
            "Epoch 9/100\n",
            "12/12 [==============================] - 0s 3ms/step - loss: 0.1029 - accuracy: 0.9764 - val_loss: 0.1289 - val_accuracy: 0.9521\n",
            "Epoch 10/100\n",
            "12/12 [==============================] - 0s 3ms/step - loss: 0.1022 - accuracy: 0.9764 - val_loss: 0.1283 - val_accuracy: 0.9521\n",
            "Epoch 11/100\n",
            "12/12 [==============================] - 0s 3ms/step - loss: 0.1017 - accuracy: 0.9764 - val_loss: 0.1277 - val_accuracy: 0.9521\n",
            "Epoch 12/100\n",
            "12/12 [==============================] - 0s 3ms/step - loss: 0.1011 - accuracy: 0.9764 - val_loss: 0.1271 - val_accuracy: 0.9521\n",
            "Epoch 13/100\n",
            "12/12 [==============================] - 0s 3ms/step - loss: 0.1005 - accuracy: 0.9764 - val_loss: 0.1265 - val_accuracy: 0.9521\n",
            "Epoch 14/100\n",
            "12/12 [==============================] - 0s 3ms/step - loss: 0.0999 - accuracy: 0.9764 - val_loss: 0.1260 - val_accuracy: 0.9521\n",
            "Epoch 15/100\n",
            "12/12 [==============================] - 0s 3ms/step - loss: 0.0994 - accuracy: 0.9764 - val_loss: 0.1255 - val_accuracy: 0.9521\n",
            "Epoch 16/100\n",
            "12/12 [==============================] - 0s 3ms/step - loss: 0.0988 - accuracy: 0.9764 - val_loss: 0.1249 - val_accuracy: 0.9521\n",
            "Epoch 17/100\n",
            "12/12 [==============================] - 0s 3ms/step - loss: 0.0983 - accuracy: 0.9764 - val_loss: 0.1244 - val_accuracy: 0.9521\n",
            "Epoch 18/100\n",
            "12/12 [==============================] - 0s 3ms/step - loss: 0.0978 - accuracy: 0.9764 - val_loss: 0.1239 - val_accuracy: 0.9521\n",
            "Epoch 19/100\n",
            "12/12 [==============================] - 0s 3ms/step - loss: 0.0972 - accuracy: 0.9764 - val_loss: 0.1235 - val_accuracy: 0.9574\n",
            "Epoch 20/100\n",
            "12/12 [==============================] - 0s 3ms/step - loss: 0.0967 - accuracy: 0.9764 - val_loss: 0.1230 - val_accuracy: 0.9574\n",
            "Epoch 21/100\n",
            "12/12 [==============================] - 0s 3ms/step - loss: 0.0962 - accuracy: 0.9764 - val_loss: 0.1225 - val_accuracy: 0.9574\n",
            "Epoch 22/100\n",
            "12/12 [==============================] - 0s 3ms/step - loss: 0.0957 - accuracy: 0.9764 - val_loss: 0.1220 - val_accuracy: 0.9574\n",
            "Epoch 23/100\n",
            "12/12 [==============================] - 0s 3ms/step - loss: 0.0952 - accuracy: 0.9764 - val_loss: 0.1216 - val_accuracy: 0.9574\n",
            "Epoch 24/100\n",
            "12/12 [==============================] - 0s 3ms/step - loss: 0.0948 - accuracy: 0.9764 - val_loss: 0.1211 - val_accuracy: 0.9574\n",
            "Epoch 25/100\n",
            "12/12 [==============================] - 0s 2ms/step - loss: 0.0943 - accuracy: 0.9764 - val_loss: 0.1206 - val_accuracy: 0.9574\n",
            "Epoch 26/100\n",
            "12/12 [==============================] - 0s 3ms/step - loss: 0.0938 - accuracy: 0.9764 - val_loss: 0.1203 - val_accuracy: 0.9574\n",
            "Epoch 27/100\n",
            "12/12 [==============================] - 0s 3ms/step - loss: 0.0933 - accuracy: 0.9764 - val_loss: 0.1198 - val_accuracy: 0.9574\n",
            "Epoch 28/100\n",
            "12/12 [==============================] - 0s 3ms/step - loss: 0.0929 - accuracy: 0.9764 - val_loss: 0.1193 - val_accuracy: 0.9574\n",
            "Epoch 29/100\n",
            "12/12 [==============================] - 0s 3ms/step - loss: 0.0924 - accuracy: 0.9764 - val_loss: 0.1190 - val_accuracy: 0.9574\n",
            "Epoch 30/100\n",
            "12/12 [==============================] - 0s 3ms/step - loss: 0.0920 - accuracy: 0.9764 - val_loss: 0.1186 - val_accuracy: 0.9574\n",
            "Epoch 31/100\n",
            "12/12 [==============================] - 0s 3ms/step - loss: 0.0916 - accuracy: 0.9764 - val_loss: 0.1180 - val_accuracy: 0.9574\n",
            "Epoch 32/100\n",
            "12/12 [==============================] - 0s 3ms/step - loss: 0.0911 - accuracy: 0.9764 - val_loss: 0.1178 - val_accuracy: 0.9574\n",
            "Epoch 33/100\n",
            "12/12 [==============================] - 0s 3ms/step - loss: 0.0907 - accuracy: 0.9764 - val_loss: 0.1173 - val_accuracy: 0.9574\n",
            "Epoch 34/100\n",
            "12/12 [==============================] - 0s 3ms/step - loss: 0.0903 - accuracy: 0.9790 - val_loss: 0.1168 - val_accuracy: 0.9574\n",
            "Epoch 35/100\n",
            "12/12 [==============================] - 0s 3ms/step - loss: 0.0899 - accuracy: 0.9790 - val_loss: 0.1165 - val_accuracy: 0.9574\n",
            "Epoch 36/100\n",
            "12/12 [==============================] - 0s 3ms/step - loss: 0.0895 - accuracy: 0.9790 - val_loss: 0.1162 - val_accuracy: 0.9574\n",
            "Epoch 37/100\n",
            "12/12 [==============================] - 0s 3ms/step - loss: 0.0891 - accuracy: 0.9790 - val_loss: 0.1158 - val_accuracy: 0.9574\n",
            "Epoch 38/100\n",
            "12/12 [==============================] - 0s 3ms/step - loss: 0.0886 - accuracy: 0.9790 - val_loss: 0.1154 - val_accuracy: 0.9574\n",
            "Epoch 39/100\n",
            "12/12 [==============================] - 0s 3ms/step - loss: 0.0883 - accuracy: 0.9816 - val_loss: 0.1151 - val_accuracy: 0.9574\n",
            "Epoch 40/100\n",
            "12/12 [==============================] - 0s 3ms/step - loss: 0.0879 - accuracy: 0.9816 - val_loss: 0.1147 - val_accuracy: 0.9574\n",
            "Epoch 41/100\n",
            "12/12 [==============================] - 0s 3ms/step - loss: 0.0875 - accuracy: 0.9843 - val_loss: 0.1143 - val_accuracy: 0.9574\n",
            "Epoch 42/100\n",
            "12/12 [==============================] - 0s 3ms/step - loss: 0.0871 - accuracy: 0.9843 - val_loss: 0.1141 - val_accuracy: 0.9574\n",
            "Epoch 43/100\n",
            "12/12 [==============================] - 0s 3ms/step - loss: 0.0867 - accuracy: 0.9843 - val_loss: 0.1137 - val_accuracy: 0.9574\n",
            "Epoch 44/100\n",
            "12/12 [==============================] - 0s 3ms/step - loss: 0.0864 - accuracy: 0.9843 - val_loss: 0.1133 - val_accuracy: 0.9574\n",
            "Epoch 45/100\n",
            "12/12 [==============================] - 0s 3ms/step - loss: 0.0860 - accuracy: 0.9843 - val_loss: 0.1130 - val_accuracy: 0.9574\n",
            "Epoch 46/100\n",
            "12/12 [==============================] - 0s 3ms/step - loss: 0.0857 - accuracy: 0.9843 - val_loss: 0.1127 - val_accuracy: 0.9574\n",
            "Epoch 47/100\n",
            "12/12 [==============================] - 0s 3ms/step - loss: 0.0853 - accuracy: 0.9843 - val_loss: 0.1124 - val_accuracy: 0.9574\n",
            "Epoch 48/100\n",
            "12/12 [==============================] - 0s 3ms/step - loss: 0.0850 - accuracy: 0.9843 - val_loss: 0.1120 - val_accuracy: 0.9628\n",
            "Epoch 49/100\n",
            "12/12 [==============================] - 0s 3ms/step - loss: 0.0846 - accuracy: 0.9843 - val_loss: 0.1118 - val_accuracy: 0.9628\n",
            "Epoch 50/100\n",
            "12/12 [==============================] - 0s 3ms/step - loss: 0.0843 - accuracy: 0.9843 - val_loss: 0.1115 - val_accuracy: 0.9628\n",
            "Epoch 51/100\n",
            "12/12 [==============================] - 0s 3ms/step - loss: 0.0839 - accuracy: 0.9843 - val_loss: 0.1111 - val_accuracy: 0.9628\n",
            "Epoch 52/100\n",
            "12/12 [==============================] - 0s 3ms/step - loss: 0.0836 - accuracy: 0.9843 - val_loss: 0.1108 - val_accuracy: 0.9628\n",
            "Epoch 53/100\n",
            "12/12 [==============================] - 0s 3ms/step - loss: 0.0832 - accuracy: 0.9843 - val_loss: 0.1105 - val_accuracy: 0.9628\n",
            "Epoch 54/100\n",
            "12/12 [==============================] - 0s 3ms/step - loss: 0.0829 - accuracy: 0.9843 - val_loss: 0.1103 - val_accuracy: 0.9628\n",
            "Epoch 55/100\n",
            "12/12 [==============================] - 0s 3ms/step - loss: 0.0826 - accuracy: 0.9843 - val_loss: 0.1099 - val_accuracy: 0.9628\n",
            "Epoch 56/100\n",
            "12/12 [==============================] - 0s 3ms/step - loss: 0.0823 - accuracy: 0.9843 - val_loss: 0.1096 - val_accuracy: 0.9628\n",
            "Epoch 57/100\n",
            "12/12 [==============================] - 0s 3ms/step - loss: 0.0820 - accuracy: 0.9843 - val_loss: 0.1095 - val_accuracy: 0.9628\n",
            "Epoch 58/100\n",
            "12/12 [==============================] - 0s 3ms/step - loss: 0.0817 - accuracy: 0.9843 - val_loss: 0.1092 - val_accuracy: 0.9628\n",
            "Epoch 59/100\n",
            "12/12 [==============================] - 0s 3ms/step - loss: 0.0813 - accuracy: 0.9843 - val_loss: 0.1089 - val_accuracy: 0.9628\n",
            "Epoch 60/100\n",
            "12/12 [==============================] - 0s 3ms/step - loss: 0.0810 - accuracy: 0.9843 - val_loss: 0.1086 - val_accuracy: 0.9628\n",
            "Epoch 61/100\n",
            "12/12 [==============================] - 0s 3ms/step - loss: 0.0807 - accuracy: 0.9843 - val_loss: 0.1084 - val_accuracy: 0.9628\n",
            "Epoch 62/100\n",
            "12/12 [==============================] - 0s 3ms/step - loss: 0.0804 - accuracy: 0.9843 - val_loss: 0.1081 - val_accuracy: 0.9628\n",
            "Epoch 63/100\n",
            "12/12 [==============================] - 0s 3ms/step - loss: 0.0801 - accuracy: 0.9843 - val_loss: 0.1079 - val_accuracy: 0.9628\n",
            "Epoch 64/100\n",
            "12/12 [==============================] - 0s 3ms/step - loss: 0.0798 - accuracy: 0.9843 - val_loss: 0.1076 - val_accuracy: 0.9628\n",
            "Epoch 65/100\n",
            "12/12 [==============================] - 0s 3ms/step - loss: 0.0796 - accuracy: 0.9843 - val_loss: 0.1074 - val_accuracy: 0.9628\n",
            "Epoch 66/100\n",
            "12/12 [==============================] - 0s 3ms/step - loss: 0.0793 - accuracy: 0.9843 - val_loss: 0.1071 - val_accuracy: 0.9628\n",
            "Epoch 67/100\n",
            "12/12 [==============================] - 0s 3ms/step - loss: 0.0790 - accuracy: 0.9843 - val_loss: 0.1068 - val_accuracy: 0.9628\n",
            "Epoch 68/100\n",
            "12/12 [==============================] - 0s 3ms/step - loss: 0.0787 - accuracy: 0.9869 - val_loss: 0.1066 - val_accuracy: 0.9628\n",
            "Epoch 69/100\n",
            "12/12 [==============================] - 0s 3ms/step - loss: 0.0784 - accuracy: 0.9869 - val_loss: 0.1064 - val_accuracy: 0.9628\n",
            "Epoch 70/100\n",
            "12/12 [==============================] - 0s 3ms/step - loss: 0.0782 - accuracy: 0.9869 - val_loss: 0.1062 - val_accuracy: 0.9628\n",
            "Epoch 71/100\n",
            "12/12 [==============================] - 0s 3ms/step - loss: 0.0779 - accuracy: 0.9869 - val_loss: 0.1059 - val_accuracy: 0.9628\n",
            "Epoch 72/100\n",
            "12/12 [==============================] - 0s 3ms/step - loss: 0.0776 - accuracy: 0.9869 - val_loss: 0.1057 - val_accuracy: 0.9628\n",
            "Epoch 73/100\n",
            "12/12 [==============================] - 0s 3ms/step - loss: 0.0774 - accuracy: 0.9869 - val_loss: 0.1054 - val_accuracy: 0.9681\n",
            "Epoch 74/100\n",
            "12/12 [==============================] - 0s 3ms/step - loss: 0.0771 - accuracy: 0.9869 - val_loss: 0.1052 - val_accuracy: 0.9681\n",
            "Epoch 75/100\n",
            "12/12 [==============================] - 0s 2ms/step - loss: 0.0768 - accuracy: 0.9869 - val_loss: 0.1050 - val_accuracy: 0.9681\n",
            "Epoch 76/100\n",
            "12/12 [==============================] - 0s 3ms/step - loss: 0.0766 - accuracy: 0.9869 - val_loss: 0.1048 - val_accuracy: 0.9681\n",
            "Epoch 77/100\n",
            "12/12 [==============================] - 0s 3ms/step - loss: 0.0763 - accuracy: 0.9869 - val_loss: 0.1045 - val_accuracy: 0.9681\n",
            "Epoch 78/100\n",
            "12/12 [==============================] - 0s 3ms/step - loss: 0.0761 - accuracy: 0.9869 - val_loss: 0.1044 - val_accuracy: 0.9681\n",
            "Epoch 79/100\n",
            "12/12 [==============================] - 0s 3ms/step - loss: 0.0758 - accuracy: 0.9869 - val_loss: 0.1042 - val_accuracy: 0.9681\n",
            "Epoch 80/100\n",
            "12/12 [==============================] - 0s 3ms/step - loss: 0.0755 - accuracy: 0.9869 - val_loss: 0.1040 - val_accuracy: 0.9681\n",
            "Epoch 81/100\n",
            "12/12 [==============================] - 0s 3ms/step - loss: 0.0753 - accuracy: 0.9869 - val_loss: 0.1038 - val_accuracy: 0.9681\n",
            "Epoch 82/100\n",
            "12/12 [==============================] - 0s 3ms/step - loss: 0.0750 - accuracy: 0.9869 - val_loss: 0.1036 - val_accuracy: 0.9681\n",
            "Epoch 83/100\n",
            "12/12 [==============================] - 0s 3ms/step - loss: 0.0748 - accuracy: 0.9869 - val_loss: 0.1033 - val_accuracy: 0.9681\n",
            "Epoch 84/100\n",
            "12/12 [==============================] - 0s 3ms/step - loss: 0.0746 - accuracy: 0.9869 - val_loss: 0.1032 - val_accuracy: 0.9681\n",
            "Epoch 85/100\n",
            "12/12 [==============================] - 0s 3ms/step - loss: 0.0743 - accuracy: 0.9869 - val_loss: 0.1030 - val_accuracy: 0.9681\n",
            "Epoch 86/100\n",
            "12/12 [==============================] - 0s 3ms/step - loss: 0.0741 - accuracy: 0.9869 - val_loss: 0.1027 - val_accuracy: 0.9734\n",
            "Epoch 87/100\n",
            "12/12 [==============================] - 0s 3ms/step - loss: 0.0738 - accuracy: 0.9869 - val_loss: 0.1025 - val_accuracy: 0.9734\n",
            "Epoch 88/100\n",
            "12/12 [==============================] - 0s 3ms/step - loss: 0.0736 - accuracy: 0.9869 - val_loss: 0.1023 - val_accuracy: 0.9734\n",
            "Epoch 89/100\n",
            "12/12 [==============================] - 0s 3ms/step - loss: 0.0734 - accuracy: 0.9869 - val_loss: 0.1022 - val_accuracy: 0.9734\n",
            "Epoch 90/100\n",
            "12/12 [==============================] - 0s 4ms/step - loss: 0.0732 - accuracy: 0.9869 - val_loss: 0.1020 - val_accuracy: 0.9734\n",
            "Epoch 91/100\n",
            "12/12 [==============================] - 0s 3ms/step - loss: 0.0729 - accuracy: 0.9869 - val_loss: 0.1017 - val_accuracy: 0.9734\n",
            "Epoch 92/100\n",
            "12/12 [==============================] - 0s 3ms/step - loss: 0.0727 - accuracy: 0.9869 - val_loss: 0.1015 - val_accuracy: 0.9734\n",
            "Epoch 93/100\n",
            "12/12 [==============================] - 0s 2ms/step - loss: 0.0725 - accuracy: 0.9869 - val_loss: 0.1014 - val_accuracy: 0.9734\n",
            "Epoch 94/100\n",
            "12/12 [==============================] - 0s 3ms/step - loss: 0.0723 - accuracy: 0.9869 - val_loss: 0.1013 - val_accuracy: 0.9734\n",
            "Epoch 95/100\n",
            "12/12 [==============================] - 0s 2ms/step - loss: 0.0721 - accuracy: 0.9869 - val_loss: 0.1010 - val_accuracy: 0.9734\n",
            "Epoch 96/100\n",
            "12/12 [==============================] - 0s 2ms/step - loss: 0.0718 - accuracy: 0.9869 - val_loss: 0.1008 - val_accuracy: 0.9734\n",
            "Epoch 97/100\n",
            "12/12 [==============================] - 0s 2ms/step - loss: 0.0716 - accuracy: 0.9869 - val_loss: 0.1007 - val_accuracy: 0.9734\n",
            "Epoch 98/100\n",
            "12/12 [==============================] - 0s 2ms/step - loss: 0.0714 - accuracy: 0.9869 - val_loss: 0.1006 - val_accuracy: 0.9734\n",
            "Epoch 99/100\n",
            "12/12 [==============================] - 0s 3ms/step - loss: 0.0712 - accuracy: 0.9869 - val_loss: 0.1004 - val_accuracy: 0.9734\n",
            "Epoch 100/100\n",
            "12/12 [==============================] - 0s 3ms/step - loss: 0.0710 - accuracy: 0.9869 - val_loss: 0.1002 - val_accuracy: 0.9734\n"
          ],
          "name": "stdout"
        }
      ]
    },
    {
      "cell_type": "code",
      "metadata": {
        "id": "xkNQLoUm4mhz",
        "colab_type": "code",
        "colab": {
          "base_uri": "https://localhost:8080/",
          "height": 87
        },
        "outputId": "c7fb5fa9-f56f-4468-f3e1-ea8808ecc41d"
      },
      "source": [
        "print('train score: ',model.evaluate(X_train,y_train))\n",
        "print('test score: ',model.evaluate(X_test,y_test))"
      ],
      "execution_count": 31,
      "outputs": [
        {
          "output_type": "stream",
          "text": [
            "12/12 [==============================] - 0s 1ms/step - loss: 0.1084 - accuracy: 0.9764\n",
            "train score:  [0.10838999599218369, 0.9763779640197754]\n",
            "6/6 [==============================] - 0s 1ms/step - loss: 0.1347 - accuracy: 0.9521\n",
            "test score:  [0.13466152548789978, 0.9521276354789734]\n"
          ],
          "name": "stdout"
        }
      ]
    },
    {
      "cell_type": "code",
      "metadata": {
        "id": "a3mUXGtV41si",
        "colab_type": "code",
        "colab": {}
      },
      "source": [
        "import matplotlib.pyplot as plt\n"
      ],
      "execution_count": 33,
      "outputs": []
    },
    {
      "cell_type": "code",
      "metadata": {
        "id": "frNesvMk5Xws",
        "colab_type": "code",
        "colab": {
          "base_uri": "https://localhost:8080/",
          "height": 282
        },
        "outputId": "60fe0535-84a7-4c15-827f-e1cfe182db80"
      },
      "source": [
        "plt.plot(r.history['loss'],label='loss')\n",
        "plt.plot(r.history['val_loss'],label='val_loss')\n",
        "plt.legend()"
      ],
      "execution_count": 36,
      "outputs": [
        {
          "output_type": "execute_result",
          "data": {
            "text/plain": [
              "<matplotlib.legend.Legend at 0x7f8ef9e9ae80>"
            ]
          },
          "metadata": {
            "tags": []
          },
          "execution_count": 36
        },
        {
          "output_type": "display_data",
          "data": {
            "image/png": "[encoded data removed]",
            "text/plain": [
              "<Figure size 432x288 with 1 Axes>"
            ]
          },
          "metadata": {
            "tags": [],
            "needs_background": "light"
          }
        }
      ]
    },
    {
      "cell_type": "code",
      "metadata": {
        "id": "g2qZfwFF5dfL",
        "colab_type": "code",
        "colab": {
          "base_uri": "https://localhost:8080/",
          "height": 282
        },
        "outputId": "c32caf7f-6672-47c2-b7f9-aeeebd01b978"
      },
      "source": [
        "plt.plot(r.history['accuracy'],label='accuracy')\n",
        "plt.plot(r.history['val_accuracy'],label='val_accuracy')\n",
        "plt.legend()"
      ],
      "execution_count": 37,
      "outputs": [
        {
          "output_type": "execute_result",
          "data": {
            "text/plain": [
              "<matplotlib.legend.Legend at 0x7f8ef9e68588>"
            ]
          },
          "metadata": {
            "tags": []
          },
          "execution_count": 37
        },
        {
          "output_type": "display_data",
          "data": {
            "image/png": "[encoded data removed]",
            "text/plain": [
              "<Figure size 432x288 with 1 Axes>"
            ]
          },
          "metadata": {
            "tags": [],
            "needs_background": "light"
          }
        }
      ]
    },
    {
      "cell_type": "code",
      "metadata": {
        "id": "pEEmEB1050vF",
        "colab_type": "code",
        "colab": {}
      },
      "source": [
        ""
      ],
      "execution_count": null,
      "outputs": []
    }
  ]
}